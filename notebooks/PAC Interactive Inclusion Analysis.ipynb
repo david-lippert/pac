{
 "cells": [
  {
   "cell_type": "markdown",
   "metadata": {},
   "source": [
    "# Corporate PAC Inclusion Analysis¶\n",
    "## Does your company's Political Action Committee have a blind spot with respect to inclusion?"
   ]
  },
  {
   "cell_type": "code",
   "execution_count": null,
   "metadata": {},
   "outputs": [],
   "source": [
    "# Execute this cell to load the notebook's style sheet, then ignore it\n",
    "from IPython.core.display import HTML\n",
    "css_file = 'PAC.css'\n",
    "HTML(open(css_file, \"r\").read())"
   ]
  },
  {
   "cell_type": "code",
   "execution_count": null,
   "metadata": {},
   "outputs": [],
   "source": [
    "import pandas as pd\n",
    "import numpy as np\n",
    "from ipywidgets import interact, interactive, fixed, interact_manual, Layout\n",
    "import ipywidgets as widgets\n",
    "import matplotlib.pyplot as plt\n",
    "from matplotlib.ticker import FuncFormatter\n",
    "from IPython.display import Javascript, display, HTML"
   ]
  },
  {
   "cell_type": "code",
   "execution_count": null,
   "metadata": {},
   "outputs": [],
   "source": [
    "races = ['Asian', 'Black', 'Hispanic', 'Other Races', 'White']\n",
    "genders = ['Male', 'Female']"
   ]
  },
  {
   "cell_type": "code",
   "execution_count": null,
   "metadata": {},
   "outputs": [],
   "source": [
    "pac_selection = widgets.Select(\n",
    "    options=['BlackRock', 'Leidos', 'Google'],\n",
    "    value='BlackRock',\n",
    "    description='Select PAC:',\n",
    "    disabled=False,\n",
    ")\n",
    "\n",
    "pac_text = widgets.Text(value=\"BlackRock\")\n",
    "def handle_change(change):\n",
    "    if change['type'] == 'change' and change['name'] == 'value':\n",
    "        print(\"changed to %s\" % change['new'])\n",
    "        pac_text.value = change['new']\n",
    "        display(Javascript('IPython.notebook.execute_cells_below()'))\n",
    "\n",
    "pac_selection.observe(handle_change)\n",
    "display(pac_selection) "
   ]
  },
  {
   "cell_type": "code",
   "execution_count": null,
   "metadata": {},
   "outputs": [],
   "source": [
    "def display_race_charts(input_df, main_title):\n",
    "    #strip Total column from dataframe\n",
    "    df = input_df.iloc[:,:-1]\n",
    "    count = len(df.index)\n",
    "    fig, axes = plt.subplots(1,count, figsize=(12,3))\n",
    "    if count > 1:\n",
    "        for ax, idx in zip(axes, df.index):\n",
    "            ax.pie(df.loc[idx], labels=df.columns, radius=1, autopct='%1.1f%%', explode=(0, 0, 0, 0, 0.1), shadow=True)\n",
    "            ax.set(ylabel='', title=idx, aspect='equal')\n",
    "    else:\n",
    "        ax = df.iloc[0].plot(kind = 'pie', labels=df.columns, radius=1, autopct='%1.1f%%', explode=(0,0,0,0,0.1), shadow=True)\n",
    "        ax.set(ylabel='', title=df.index[0], aspect='equal')        \n",
    "    fig.suptitle(main_title, fontsize=18)\n",
    "    fig.tight_layout()\n",
    "    fig.subplots_adjust(top=0.80)\n",
    "    plt.show()\n",
    "\n",
    "def display_race_summary_charts(input_df, main_title):\n",
    "    df = input_df\n",
    "    count = len(df.index)\n",
    "    fig, axes = plt.subplots(1,count, figsize=(12,3))\n",
    "    df.plot(kind = 'pie', radius=1, autopct='%1.1f%%', ax=ax, subplots=True, shadow=True)\n",
    "    ax.set(ylabel='', title=df.index[0], aspect='equal')\n",
    "    #ax.get_legend().remove()\n",
    "    fig.suptitle(main_title, fontsize=18)\n",
    "    fig.tight_layout()\n",
    "    fig.subplots_adjust(top=0.80)\n",
    "    plt.show()\n",
    "    \n",
    "def display_gender_charts(input_df, main_title):\n",
    "    #strip Total column from dataframe\n",
    "    df = input_df.iloc[:,:-1]\n",
    "    count = len(df.index)\n",
    "    fig, axes = plt.subplots(1,count, figsize=(12,3))\n",
    "    if count > 1:\n",
    "        for ax, idx in (zip(axes, df.index)):\n",
    "            ax.pie(df.loc[idx], labels=df.columns, radius=1, autopct='%1.1f%%', explode=(0.1, 0), shadow=True)\n",
    "            ax.set(ylabel='', title=idx, aspect='equal')\n",
    "    else:\n",
    "        ax = df.iloc[0].plot(kind = 'pie', labels=df.columns, radius=1, autopct='%1.1f%%', explode=(0.1, 0), shadow=True)\n",
    "        ax.set(ylabel='', title=df.index[0], aspect='equal')\n",
    "    fig.suptitle(main_title, fontsize=18)\n",
    "    fig.tight_layout()\n",
    "    fig.subplots_adjust(top=0.80)\n",
    "    plt.show()\n",
    "\n",
    "def autopct_format(values):\n",
    "    def my_format(pct):\n",
    "        total = sum(values)\n",
    "        val = int(round(pct*total/100.0))\n",
    "        return '${v:d}'.format(v=val)\n",
    "    return my_format\n",
    "\n",
    "def display_money_charts(input_df, main_title):\n",
    "    #strip Total column from dataframe\n",
    "    df = input_df.iloc[:,:-1]\n",
    "    #Reverse order dataframe\n",
    "    df = df.iloc[::-1]\n",
    "    fig, axes = plt.subplots(1,2, figsize=(12,3))\n",
    "    for ax, idx in zip(axes, df.index):\n",
    "        ax.pie(df.loc[idx], labels=df.columns, radius=1, autopct = autopct_format(df.loc[idx]), shadow=True)\n",
    "        ax.set(ylabel='', title=idx, aspect='equal')\n",
    "\n",
    "    fig.suptitle(main_title, fontsize=18)\n",
    "    fig.tight_layout()\n",
    "    fig.subplots_adjust(top=0.80)\n",
    "    plt.show()\n",
    "\n",
    "def display_money_bar(input_df, main_title):\n",
    "    #strip Total column from dataframe\n",
    "    df = input_df.iloc[:,:-1]\n",
    "    #Reverse order dataframe\n",
    "    #df = df.iloc[::-1]\n",
    "    ax = df.plot(kind='bar', title =main_title, figsize=(15, 10), legend=True, fontsize=12)\n",
    "    ax.set_xlabel(\"Party\", fontsize=12)\n",
    "    ax.set_ylabel(\"PAC Disbursment Dollars\", fontsize=12)\n",
    "    for p in ax.patches:\n",
    "        ax.annotate('$'+str(p.get_height()), (p.get_x() * 1.005, p.get_height() * 1.005))\n",
    "    plt.show()\n",
    "    \n",
    "def change_index_values(df, old, new):\n",
    "    as_list = df.index.tolist()\n",
    "    idx = as_list.index(old)\n",
    "    as_list[idx] = new\n",
    "    df.index = as_list\n",
    "    \n",
    "def currency(x, pos):\n",
    "    'The two args are the value and tick position'\n",
    "    if x >= 1000000:\n",
    "        return '${:1.1f}M'.format(x*1e-6)\n",
    "    return '${:1.0f}K'.format(x*1e-3)\n",
    "\n",
    "def display_bar(df):\n",
    "    fig, ax = plt.subplots()\n",
    "    df.plot(kind = 'barh', ax=ax)\n",
    "    fmt = FuncFormatter(currency)\n",
    "    ax.xaxis.set_major_formatter(fmt)\n",
    "    ax.xaxis.grid()\n",
    "    \n",
    "def race_totals(df):\n",
    "    total = 0\n",
    "    for r in races:\n",
    "        if r in df.columns:\n",
    "            total = total + df[r]\n",
    "    return total\n",
    "\n",
    "def gender_totals(df):\n",
    "    total = 0\n",
    "    for r in genders:\n",
    "        if r in df.columns:\n",
    "            total = total + df[r]\n",
    "    return total"
   ]
  },
  {
   "cell_type": "code",
   "execution_count": null,
   "metadata": {},
   "outputs": [],
   "source": [
    "congress116_df = pd.read_csv(\"../data/116th_congress_190103.csv\")\n",
    "\n",
    "#data cleaning\n",
    "\n",
    "#split race & ethnicity\n",
    "congress116_df[['Race','Ethnicity']] = congress116_df.raceEthnicity.str.split(\" - \", 1, expand=True,)\n",
    "\n",
    "#remove independents\n",
    "congress116_df = congress116_df[congress116_df.party != \"Independent\"]\n",
    "\n",
    "#remove non-voting members\n",
    "congress116_df['raceEthnicity'].replace('', np.nan, inplace=True)\n",
    "congress116_df.dropna(subset=['raceEthnicity'], inplace=True)\n",
    "\n",
    "#Fix Golden\tJared missing gender\n",
    "congress116_df.at[240, 'gender'] = 'M'\n",
    "\n",
    "#change Native American and Pacific Islander to \"Other Races\"\n",
    "congress116_df.loc[(congress116_df.Race == 'Native American'),'Race']='Other Races'\n",
    "congress116_df.loc[(congress116_df.Race == 'Pacific Islander'),'Race']='Other Races'\n",
    "\n",
    "#change M & F to Male and Female\n",
    "congress116_df.loc[(congress116_df.gender == 'M'),'gender']='Male'\n",
    "congress116_df.loc[(congress116_df.gender == 'F'),'gender']='Female'\n",
    "\n",
    "#remove nan\n",
    "congress116_df = congress116_df.apply(lambda x: x.fillna(0) if x.dtype.kind in 'biufc' else x.fillna(''))\n",
    "\n",
    "#convert floats to ints\n",
    "#congress116_df = congress116_df.convert_dtypes()"
   ]
  },
  {
   "cell_type": "code",
   "execution_count": null,
   "metadata": {},
   "outputs": [],
   "source": [
    "race_df = congress116_df.groupby(['party','Race']).agg('size').unstack()\n",
    "gender_df = congress116_df.groupby(['party','gender']).agg('size').unstack()\n",
    "\n",
    "#remove NaN\n",
    "race_df = race_df.apply(lambda x: x.fillna(0) if x.dtype.kind in 'biufc' else x.fillna(''))\n",
    "gender_df = gender_df.apply(lambda x: x.fillna(0) if x.dtype.kind in 'biufc' else x.fillna(''))\n",
    "\n",
    "#add total column\n",
    "race_df['Total'] = race_totals(race_df)\n",
    "gender_df['Total'] = gender_totals(gender_df)\n",
    "#race_df['Total'] = race_df['Asian'] + race_df['Black'] + race_df['Hispanic'] + race_df['Other Races'] + race_df['White']\n",
    "#gender_df['Total'] = gender_df['Male'] + gender_df['Female']\n",
    "\n",
    "#load 2017 US race and gender data\n",
    "us_race_df = pd.read_csv(\"../data/us_race_2017.csv\")\n",
    "us_race_df.set_index('Category', inplace=True)\n",
    "us_gender_df = pd.read_csv(\"../data/us_gender_2017.csv\")\n",
    "us_gender_df.set_index('Category', inplace=True)\n",
    "\n",
    "#concatenate race dataframes\n",
    "race_df = pd.concat([race_df, us_race_df])\n",
    "#concatenate gender dataframes\n",
    "gender_df = pd.concat([gender_df, us_gender_df])\n",
    "\n",
    "#convert floats to ints\n",
    "race_df = race_df.convert_dtypes()\n",
    "gender_df = gender_df.convert_dtypes()\n",
    "\n",
    "#change index values for clearer presentation\n",
    "change_index_values(race_df, \"Democrat\", \"Democrats\")\n",
    "change_index_values(race_df, \"Republican\", \"Republicans\")\n",
    "change_index_values(gender_df, \"Democrat\", \"Democrats\")\n",
    "change_index_values(gender_df, \"Republican\", \"Republican\")"
   ]
  },
  {
   "cell_type": "code",
   "execution_count": null,
   "metadata": {},
   "outputs": [],
   "source": [
    "#align PAC data\n",
    "PAC_2017_2018_df = pd.read_csv(\"../data/\"+pac_text.value+\"PAC-2017-2018-disbursements.csv\")\n",
    "ThunderboltPAC_2017_2018_df = pd.read_csv(\"../data/thunderboltPAC-2017-2018-disbursements.csv\")\n",
    "NewPAC_2017_2018_df = pd.read_csv(\"../data/newPAC-2017-2018-disbursements.csv\")\n",
    "\n",
    "#remove nan\n",
    "PAC_2017_2018_df = PAC_2017_2018_df.apply(lambda x: x.fillna(0) if x.dtype.kind in 'biufc' else x.fillna(''))\n",
    "ThunderboltPAC_2017_2018_df = ThunderboltPAC_2017_2018_df.apply(lambda x: x.fillna(0) if x.dtype.kind in 'biufc' else x.fillna(''))\n",
    "NewPAC_2017_2018_df = NewPAC_2017_2018_df.apply(lambda x: x.fillna(0) if x.dtype.kind in 'biufc' else x.fillna(''))\n",
    "\n",
    "#convert floats to ints\n",
    "PAC_2017_2018_df.candidate_office_district = PAC_2017_2018_df.candidate_office_district.astype(int)\n",
    "ThunderboltPAC_2017_2018_df.candidate_office_district = ThunderboltPAC_2017_2018_df.candidate_office_district.astype(int)\n",
    "NewPAC_2017_2018_df.candidate_office_district = NewPAC_2017_2018_df.candidate_office_district.astype(int)\n",
    "\n",
    "#convert join columns from all caps to capitalized\n",
    "PAC_2017_2018_df.candidate_first_name = PAC_2017_2018_df.candidate_first_name.str.title()\n",
    "PAC_2017_2018_df.candidate_last_name = PAC_2017_2018_df.candidate_last_name.str.title()\n",
    "PAC_2017_2018_df.candidate_middle_name = PAC_2017_2018_df.candidate_middle_name.str.title()\n",
    "ThunderboltPAC_2017_2018_df.candidate_first_name = ThunderboltPAC_2017_2018_df.candidate_first_name.str.title()\n",
    "ThunderboltPAC_2017_2018_df.candidate_last_name = ThunderboltPAC_2017_2018_df.candidate_last_name.str.title()\n",
    "ThunderboltPAC_2017_2018_df.candidate_middle_name = ThunderboltPAC_2017_2018_df.candidate_middle_name.str.title()\n",
    "NewPAC_2017_2018_df.candidate_first_name = NewPAC_2017_2018_df.candidate_first_name.str.title()\n",
    "NewPAC_2017_2018_df.candidate_last_name = NewPAC_2017_2018_df.candidate_last_name.str.title()\n",
    "NewPAC_2017_2018_df.candidate_middle_name = NewPAC_2017_2018_df.candidate_middle_name.str.title()\n",
    "\n",
    "#join PAC and congress demographic dataframes\n",
    "PAC_merge_df = pd.merge(PAC_2017_2018_df, congress116_df,  how='left', left_on=['candidate_last_name','candidate_office_district','candidate_office_state'], right_on = ['lastName','district','state'])\n",
    "TBPAC_merge_df = pd.merge(ThunderboltPAC_2017_2018_df, congress116_df,  how='left', left_on=['candidate_last_name','candidate_office_district','candidate_office_state'], right_on = ['lastName','district','state'])\n",
    "NewPAC_merge_df = pd.merge(NewPAC_2017_2018_df, congress116_df,  how='left', left_on=['candidate_last_name','candidate_office_district','candidate_office_state'], right_on = ['lastName','district','state'])\n",
    "\n",
    "#remove nan\n",
    "PAC_merge_df = PAC_merge_df.apply(lambda x: x.fillna(0) if x.dtype.kind in 'biufc' else x.fillna(''))\n",
    "TBPAC_merge_df = TBPAC_merge_df.apply(lambda x: x.fillna(0) if x.dtype.kind in 'biufc' else x.fillna(''))\n",
    "NewPAC_merge_df = NewPAC_merge_df.apply(lambda x: x.fillna(0) if x.dtype.kind in 'biufc' else x.fillna(''))"
   ]
  },
  {
   "cell_type": "code",
   "execution_count": null,
   "metadata": {},
   "outputs": [],
   "source": [
    "#subsets\n",
    "#possible loser candidates\n",
    "winners_2018_df = PAC_merge_df.loc[PAC_merge_df['Race'] != \"\"]\n",
    "possible_2018_losers_df = PAC_merge_df.loc[(PAC_merge_df['candidate_last_name'] != \"\") & (PAC_merge_df['Race'] == \"\")]\n",
    "untraced_disbursements_df = PAC_merge_df.loc[PAC_merge_df['Race'] == \"\"]\n",
    "\n",
    "PAC_race_df = winners_2018_df.groupby(['party','Race']).agg('size').unstack()\n",
    "PAC_gender_df = winners_2018_df.groupby(['party','gender']).agg('size').unstack()\n",
    "PAC_money_race_df = winners_2018_df.groupby(['party', 'Race'])['disbursement_amount'].agg('sum').unstack()\n",
    "PAC_money_gender_df = winners_2018_df.groupby(['party', 'gender'])['disbursement_amount'].agg('sum').unstack()\n",
    "\n",
    "#remove NaN\n",
    "PAC_race_df = PAC_race_df.apply(lambda x: x.fillna(0) if x.dtype.kind in 'biufc' else x.fillna(''))\n",
    "PAC_gender_df = PAC_gender_df.apply(lambda x: x.fillna(0) if x.dtype.kind in 'biufc' else x.fillna(''))\n",
    "PAC_money_race_df = PAC_money_race_df.apply(lambda x: x.fillna(0) if x.dtype.kind in 'biufc' else x.fillna(''))\n",
    "PAC_money_gender_df = PAC_money_gender_df.apply(lambda x: x.fillna(0) if x.dtype.kind in 'biufc' else x.fillna(''))\n",
    "\n",
    "#add total column\n",
    "PAC_race_df['Total'] = race_totals(PAC_race_df)\n",
    "PAC_gender_df['Total'] = gender_totals(PAC_gender_df)\n",
    "PAC_money_race_df['Total'] = race_totals(PAC_money_race_df)\n",
    "PAC_money_gender_df['Total'] = gender_totals(PAC_money_gender_df)\n",
    "#PAC_race_df['Total'] = PAC_race_df['Asian'] + PAC_race_df['Black'] + PAC_race_df['Hispanic'] + PAC_race_df['Other Races'] + PAC_race_df['White']\n",
    "#PAC_gender_df['Total'] = PAC_gender_df['Male'] + PAC_gender_df['Female']\n",
    "#PAC_money_race_df['Total'] = PAC_money_race_df['Asian'] + PAC_money_race_df['Black'] + PAC_money_race_df['Hispanic'] + PAC_money_race_df['Other Races'] + PAC_money_race_df['White']\n",
    "#PAC_money_gender_df['Total'] = PAC_money_gender_df['Male'] + PAC_money_gender_df['Female']\n",
    "\n",
    "#concatenate race dataframes\n",
    "PAC_race_df = pd.concat([PAC_race_df, us_race_df])\n",
    "#concatenate gender dataframes\n",
    "PAC_gender_df = pd.concat([PAC_gender_df, us_gender_df])\n",
    "\n",
    "#convert floats to ints\n",
    "PAC_race_df = PAC_race_df.convert_dtypes()\n",
    "PAC_gender_df = PAC_gender_df.convert_dtypes()\n",
    "PAC_money_race_df = PAC_money_race_df.convert_dtypes()\n",
    "PAC_money_gender_df = PAC_money_gender_df.convert_dtypes()\n",
    "\n",
    "#remove NaN\n",
    "PAC_race_df = PAC_race_df.apply(lambda x: x.fillna(0) if x.dtype.kind in 'biufc' else x.fillna(''))\n",
    "PAC_gender_df = PAC_gender_df.apply(lambda x: x.fillna(0) if x.dtype.kind in 'biufc' else x.fillna(''))\n",
    "PAC_money_race_df = PAC_money_race_df.apply(lambda x: x.fillna(0) if x.dtype.kind in 'biufc' else x.fillna(''))\n",
    "PAC_money_gender_df = PAC_money_gender_df.apply(lambda x: x.fillna(0) if x.dtype.kind in 'biufc' else x.fillna(''))\n",
    "\n",
    "#change index values for clearer presentation\n",
    "change_index_values(PAC_race_df, \"Democrat\", \"Democratic Recipiants\")\n",
    "change_index_values(PAC_race_df, \"Republican\", \"Republican Recipiants\")\n",
    "change_index_values(PAC_gender_df, \"Democrat\", \"Democratic Recipiants\")\n",
    "change_index_values(PAC_gender_df, \"Republican\", \"Republican Recipiants\")\n",
    "change_index_values(PAC_money_race_df, \"Democrat\", \"Democratic Recipiants\")\n",
    "change_index_values(PAC_money_race_df, \"Republican\", \"Republican Recipiants\")\n",
    "change_index_values(PAC_money_gender_df, \"Democrat\", \"Democratic Recipiants\")\n",
    "change_index_values(PAC_money_gender_df, \"Republican\", \"Republican Recipiants\")\n",
    "\n",
    "#rearrange columns\n",
    "race_cols = races\n",
    "race_cols.append('Total')\n",
    "gender_cols = genders\n",
    "gender_cols.append('Total')\n",
    "PAC_race_df = PAC_race_df[race_cols]\n",
    "PAC_gender_df = PAC_gender_df[gender_cols]"
   ]
  },
  {
   "cell_type": "markdown",
   "metadata": {},
   "source": [
    "## PAC disbursements based on inclusion and diversity. \n",
    "### In this analysis we take a closer look at the diversity of the United States overall and the diversity of the current US Congress by party.  We will analyze diversity based on gender and race and compare the parties in general and then dive into the diversity of the specific candidates that received money from the selected PAC.  All of this data is publicly available."
   ]
  },
  {
   "cell_type": "code",
   "execution_count": null,
   "metadata": {},
   "outputs": [],
   "source": [
    "display_gender_charts(gender_df.iloc[2:3], \"US Population by Gender\")"
   ]
  },
  {
   "cell_type": "code",
   "execution_count": null,
   "metadata": {},
   "outputs": [],
   "source": [
    "display_gender_charts(gender_df.iloc[0:2], \"Current Congress by Gender\")"
   ]
  },
  {
   "cell_type": "code",
   "execution_count": null,
   "metadata": {},
   "outputs": [],
   "source": [
    "display_gender_charts(PAC_gender_df.iloc[0:2], \"Percent of PAC Disbursements to Members of the 116th Congress by Gender\")"
   ]
  },
  {
   "cell_type": "code",
   "execution_count": null,
   "metadata": {},
   "outputs": [],
   "source": [
    "display_gender_charts(PAC_gender_df.iloc[0:2].sum().to_frame(name='recipients').transpose(), \"PAC Disbursement to candidates by Gender\")"
   ]
  },
  {
   "cell_type": "markdown",
   "metadata": {},
   "source": [
    "## PAC disbursements based on racial diversity"
   ]
  },
  {
   "cell_type": "code",
   "execution_count": null,
   "metadata": {},
   "outputs": [],
   "source": [
    "display_race_charts(race_df.iloc[2:3], \"US Population by Race\")"
   ]
  },
  {
   "cell_type": "code",
   "execution_count": null,
   "metadata": {},
   "outputs": [],
   "source": [
    "display_race_charts(race_df.iloc[0:2], \"Current Congress by Race\")"
   ]
  },
  {
   "cell_type": "code",
   "execution_count": null,
   "metadata": {},
   "outputs": [],
   "source": [
    "display_race_charts(PAC_race_df.iloc[0:2], \"Percent of PAC Disbursements to Members of the 116th Congress by Race\")"
   ]
  },
  {
   "cell_type": "code",
   "execution_count": null,
   "metadata": {},
   "outputs": [],
   "source": [
    "display_race_charts(PAC_race_df.iloc[0:2].sum().to_frame(name='recipients').transpose(), \"PAC Disbursement to candidates by Race\")"
   ]
  },
  {
   "cell_type": "code",
   "execution_count": null,
   "metadata": {},
   "outputs": [],
   "source": [
    "display_money_charts(PAC_money_race_df, \"Amount of PAC Disbursements to Members of the 116th Congress by Race\")"
   ]
  },
  {
   "cell_type": "code",
   "execution_count": null,
   "metadata": {},
   "outputs": [],
   "source": [
    "df = PAC_merge_df.groupby('Race')['disbursement_amount'].sum().sort_values()\n",
    "as_list = df.index.tolist()\n",
    "idx = as_list.index('')\n",
    "as_list[idx] = 'candidates not elected or other PACs or RNCC/DCCC'\n",
    "df.index = as_list"
   ]
  },
  {
   "cell_type": "code",
   "execution_count": null,
   "metadata": {},
   "outputs": [],
   "source": [
    "display_bar(df)"
   ]
  },
  {
   "cell_type": "markdown",
   "metadata": {},
   "source": [
    "## Sources\n",
    "- US demographics data (race) - https://en.wikipedia.org/wiki/Demographics_of_the_United_States#Race_and_ethnicity\n",
    "- US demographics data (gender) - https://www.census.gov/quickfacts/fact/table/US/LFE046218\n",
    "- 116th congress demographic data - https://adamisacson.com/116th-congress-spreadsheet/\n",
    "- FEC site - https://www.fec.gov\n",
    "- FEC 2017-2018 Google PAC disbursements - https://www.fec.gov/data/disbursements/?committee_id=C00428623&two_year_transaction_period=2018&data_type=processed"
   ]
  },
  {
   "cell_type": "code",
   "execution_count": null,
   "metadata": {},
   "outputs": [],
   "source": []
  }
 ],
 "metadata": {
  "language_info": {
   "name": "python",
   "pygments_lexer": "ipython3"
  }
 },
 "nbformat": 4,
 "nbformat_minor": 2
}
